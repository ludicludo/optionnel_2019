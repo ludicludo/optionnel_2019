{
 "cells": [
  {
   "cell_type": "code",
   "execution_count": 1,
   "metadata": {},
   "outputs": [],
   "source": [
    "%matplotlib inline\n",
    "import matplotlib.pyplot as plt\n",
    "\n",
    "import numpy as np\n",
    "import SimpleITK as sitk\n",
    "from ipywidgets import interact"
   ]
  },
  {
   "cell_type": "markdown",
   "metadata": {},
   "source": [
    "## Affichage des images CT et segmentées\n",
    "-----------"
   ]
  },
  {
   "cell_type": "code",
   "execution_count": 2,
   "metadata": {},
   "outputs": [],
   "source": [
    "img  = sitk.ReadImage('./images/p1/ct.mhd')\n",
    "arr_img = sitk.GetArrayFromImage(img)\n",
    "img_lab = sitk.ReadImage('./images/p1/roi/body_38_2mm.mhd')\n",
    "arr_img_lab = sitk.GetArrayFromImage(img_lab)\n"
   ]
  },
  {
   "cell_type": "code",
   "execution_count": 3,
   "metadata": {},
   "outputs": [],
   "source": [
    "def myshow(coupe):\n",
    "    fig, ax = plt.subplots(1,2, figsize=(10, 5))\n",
    "    ax[0].imshow(arr_img[coupe], cmap=plt.cm.gray);\n",
    "    ax[1].imshow(arr_img_lab[coupe]);"
   ]
  },
  {
   "cell_type": "code",
   "execution_count": 4,
   "metadata": {
    "scrolled": true
   },
   "outputs": [
    {
     "data": {
      "application/vnd.jupyter.widget-view+json": {
       "model_id": "8cc85df1711245529df7b912bc9637e6",
       "version_major": 2,
       "version_minor": 0
      },
      "text/plain": [
       "A Jupyter Widget"
      ]
     },
     "metadata": {},
     "output_type": "display_data"
    }
   ],
   "source": [
    "interact(myshow, coupe=(0,img_lab.GetDepth()-1));"
   ]
  },
  {
   "cell_type": "markdown",
   "metadata": {},
   "source": [
    "## Ré-échantillonnage\n",
    "----"
   ]
  },
  {
   "cell_type": "code",
   "execution_count": 5,
   "metadata": {},
   "outputs": [],
   "source": [
    "resample_img_lab = sitk.Resample(img_lab, img, sitk.Transform(), sitk.sitkNearestNeighbor, 0)"
   ]
  },
  {
   "cell_type": "code",
   "execution_count": 6,
   "metadata": {},
   "outputs": [
    {
     "data": {
      "text/plain": [
       "(380, 249, 249)"
      ]
     },
     "execution_count": 6,
     "metadata": {},
     "output_type": "execute_result"
    },
    {
     "data": {
      "image/png": "[encoded data removed]",
      "text/plain": [
       "<matplotlib.figure.Figure at 0x209bd1bb3c8>"
      ]
     },
     "metadata": {},
     "output_type": "display_data"
    }
   ],
   "source": [
    "plt.imshow(sitk.GetArrayFromImage(resample_img_lab)[189]);\n",
    "sitk.GetArrayFromImage(sitk.BinaryContour(resample_img_lab, fullyConnected=True)).shape"
   ]
  },
  {
   "cell_type": "markdown",
   "metadata": {},
   "source": [
    "## Fusion des images CT et de labels\n",
    "----------"
   ]
  },
  {
   "cell_type": "code",
   "execution_count": 7,
   "metadata": {},
   "outputs": [],
   "source": [
    "def my_label_show(coupe, percent):\n",
    "    overlay_lab_img = sitk.LabelOverlay(sitk.Cast(sitk.RescaleIntensity(img),sitk.sitkUInt8), \n",
    "                                    resample_img_lab, percent)    \n",
    "    arr_overlay_lab = sitk.GetArrayFromImage(overlay_lab_img)\n",
    "    plt.imshow(arr_overlay_lab[coupe]);"
   ]
  },
  {
   "cell_type": "code",
   "execution_count": 8,
   "metadata": {},
   "outputs": [
    {
     "data": {
      "application/vnd.jupyter.widget-view+json": {
       "model_id": "6a3b9855018043b1a3a83b1ead814c38",
       "version_major": 2,
       "version_minor": 0
      },
      "text/plain": [
       "A Jupyter Widget"
      ]
     },
     "metadata": {},
     "output_type": "display_data"
    }
   ],
   "source": [
    "interact(my_label_show, coupe=(0, img.GetDepth()-1), percent=(0,1,0.1));"
   ]
  },
  {
   "cell_type": "markdown",
   "metadata": {},
   "source": [
    "## Extraction des informations HU\n",
    "---------"
   ]
  },
  {
   "cell_type": "code",
   "execution_count": 9,
   "metadata": {},
   "outputs": [
    {
     "name": "stdout",
     "output_type": "stream",
     "text": [
      "6209454 3065.0 -1806.0 -47.74961888758657 196.16625465956906\n"
     ]
    }
   ],
   "source": [
    "stats = sitk.LabelStatisticsImageFilter()\n",
    "stats.Execute(img, resample_img_lab)\n",
    "print(stats.GetCount(1), stats.GetMaximum(1), stats.GetMinimum(1), stats.GetMean(1), stats.GetSigma(1))"
   ]
  },
  {
   "cell_type": "markdown",
   "metadata": {},
   "source": [
    "## Chargement de plusieurs fichiers de labels\n",
    "-----------"
   ]
  },
  {
   "cell_type": "code",
   "execution_count": 38,
   "metadata": {},
   "outputs": [
    {
     "name": "stdout",
     "output_type": "stream",
     "text": [
      "Nombre d'images :  17\n"
     ]
    }
   ],
   "source": [
    "import glob\n",
    "import re\n",
    "label_files = glob.glob('.\\\\images\\\\p1\\\\roi\\\\*2mm_2mm.mhd')\n",
    "print(\"Nombre d'images : \", len(label_files))\n",
    "dico_label_files = {}\n",
    "chg_label = sitk.ChangeLabelImageFilter()\n",
    "d_map = sitk.DoubleDoubleMap()\n",
    "for i, label_file in enumerate(label_files):\n",
    "    key = re.search(r'.*\\\\(\\w+_\\d+)_2mm_2mm.*', label_file).group(1)\n",
    "    d_map[0] = 0\n",
    "    d_map[1] = i+1\n",
    "    if not re.match('.*body.*', label_file):        \n",
    "        chg_label.SetChangeMap(d_map)\n",
    "    image = sitk.Resample(sitk.ReadImage(label_file), img, sitk.Transform())\n",
    "    image = chg_label.Execute(image)\n",
    "    dico_label_files[key] = {'file': label_file, 'sitk_file': image, 'label_idx':i+1}"
   ]
  },
  {
   "cell_type": "code",
   "execution_count": 40,
   "metadata": {},
   "outputs": [
    {
     "data": {
      "application/vnd.jupyter.widget-view+json": {
       "model_id": "31bebafb0f824b9d88bf58aba3d233de",
       "version_major": 2,
       "version_minor": 0
      },
      "text/plain": [
       "A Jupyter Widget"
      ]
     },
     "metadata": {},
     "output_type": "display_data"
    }
   ],
   "source": [
    "#dico_label_files['spleen_862']['sitk_file'] , dico_label_files['body_38']['sitk_file']\n",
    "image_sum_labels = sitk.Image(img.GetWidth(), img.GetHeight(), img.GetDepth(), sitk.sitkUInt8)\n",
    "image_sum_labels.SetOrigin(img.GetOrigin())\n",
    "image_sum_labels.SetSpacing(img.GetSpacing())\n",
    "for label in dico_label_files.keys():\n",
    "    if not re.match('.*body.*', label):\n",
    "        image_sum_labels = sitk.Add(image_sum_labels,\n",
    "                                          dico_label_files[label]['sitk_file'])\n",
    "image_sum_labels = sitk.Add(image_sum_labels, dico_label_files['body_38']['sitk_file'])\n",
    "arr_tmp = sitk.GetArrayFromImage(image_sum_labels)\n",
    "\n",
    "def tmp_show(coupe):\n",
    "    plt.imshow(arr_tmp[coupe], cmap=plt.cm.Accent_r);\n",
    "\n",
    "interact(tmp_show, coupe=(0, img.GetDepth()-1));\n",
    "\n",
    "sitk.WriteImage(image_sum_labels,'labelmap.mhd')"
   ]
  },
  {
   "cell_type": "code",
   "execution_count": 41,
   "metadata": {},
   "outputs": [
    {
     "name": "stdout",
     "output_type": "stream",
     "text": [
      "1\tbody_38\t5824282\t46594.256\t-49.624\t3065.0\n",
      "3\tbone_marrow_269\t18731\t149.848\t92.698\t408.0\n",
      "4\theart_268\t66590\t532.720\t28.619\t1150.0\n",
      "5\tleft_kidney_865\t830\t6.640\t-41.581\t60.0\n",
      "6\tlesion01_866\t6599\t52.792\t36.247\t86.0\n",
      "7\tlesion02_867\t1141\t9.128\t22.485\t76.0\n",
      "8\tlesion03_868\t1600\t12.800\t33.219\t72.0\n",
      "9\tlesion04_869\t10917\t87.336\t36.084\t103.0\n",
      "10\tlesion05_870\t2768\t22.144\t24.204\t510.0\n",
      "11\tlesion06_871\t502\t4.016\t23.797\t67.0\n",
      "12\tlesion07_872\t578\t4.624\t7.858\t221.0\n",
      "13\tlesion08_873\t1668\t13.344\t19.293\t66.0\n",
      "14\tlesion09_874\t2096\t16.768\t28.794\t79.0\n",
      "15\tlesion10_875\t539\t4.312\t39.217\t72.0\n",
      "16\tliver_267\t143370\t1146.960\t55.788\t193.0\n",
      "17\tright_kidney_864\t21388\t171.104\t21.152\t126.0\n",
      "18\tspleen_862\t16907\t135.256\t45.548\t205.0\n"
     ]
    }
   ],
   "source": [
    "stats_all = sitk.LabelIntensityStatisticsImageFilter()\n",
    "stats_all.Execute(image_sum_labels, img)\n",
    "for label in dico_label_files.keys():\n",
    "    if not 'body' in label:\n",
    "        indice = dico_label_files[label]['label_idx']+1       \n",
    "    else:\n",
    "        indice = dico_label_files[label]['label_idx']\n",
    "    nb_pixels = stats_all.GetNumberOfPixels(indice)\n",
    "    mean = stats_all.GetMean(indice)\n",
    "    maxi = stats_all.GetMaximum(indice)\n",
    "    std = stats_all.GetStandardDeviation(indice)\n",
    "    str_ind = '{1}\\t{0}\\t{2}\\t{3:.3f}\\t{4:.3f}\\t{5}'.format(label, indice, nb_pixels, \n",
    "                                                       nb_pixels*(img.GetSpacing()[0]/10)**3, \n",
    "                                                       mean, maxi)\n",
    "    print(str_ind)"
   ]
  }
 ],
 "metadata": {
  "kernelspec": {
   "display_name": "Python 3",
   "language": "python",
   "name": "python3"
  },
  "language_info": {
   "codemirror_mode": {
    "name": "ipython",
    "version": 3
   },
   "file_extension": ".py",
   "mimetype": "text/x-python",
   "name": "python",
   "nbconvert_exporter": "python",
   "pygments_lexer": "ipython3",
   "version": "3.7.3"
  },
  "toc": {
   "base_numbering": 1,
   "nav_menu": {},
   "number_sections": true,
   "sideBar": true,
   "skip_h1_title": false,
   "title_cell": "Table of Contents",
   "title_sidebar": "Contents",
   "toc_cell": false,
   "toc_position": {},
   "toc_section_display": true,
   "toc_window_display": false
  }
 },
 "nbformat": 4,
 "nbformat_minor": 4
}
